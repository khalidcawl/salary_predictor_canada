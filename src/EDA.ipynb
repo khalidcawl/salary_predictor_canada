{
 "cells": [
  {
   "cell_type": "markdown",
   "id": "9059f96b-1cec-481f-b7ed-7e3580911f2f",
   "metadata": {},
   "source": [
    "# Exploratory data analysis of the tech survey results data set"
   ]
  },
  {
   "cell_type": "code",
   "execution_count": 1,
   "id": "9387346e-3be0-435d-ab4b-f5eb42dc9760",
   "metadata": {},
   "outputs": [],
   "source": [
    "import numpy as np\n",
    "import pandas as pd\n",
    "import altair as alt\n",
    "alt.data_transformers.enable('data_server')\n",
    "alt.renderers.enable('mimetype')\n",
    "\n",
    "from sklearn.model_selection import train_test_split\n",
    "pd.set_option(\"max_columns\", 50)"
   ]
  },
  {
   "cell_type": "code",
   "execution_count": 2,
   "id": "8f8eeed7-b757-4e42-9c4d-d5063e044bdf",
   "metadata": {},
   "outputs": [],
   "source": [
    "survey_data = pd.read_csv('../data/raw/survey_results_public.csv')\n",
    "country_selected = ['United States','Canada'] \n",
    "survey_data = survey_data.query('Country == @country_selected')"
   ]
  },
  {
   "cell_type": "markdown",
   "id": "5518d18c-3be0-4165-b0dd-fdbeab72b104",
   "metadata": {},
   "source": [
    "# Summary of the data set\n",
    "The data set used in this project is from the salary and work information survey created by Stack Overflow in 2019. Since our project is aiming to predict tech compensation in the US and Canada, we only use the data from the United States and Canada. Each row in the data set represents working related information of a software technician, including the job title, education level, location, years of coding experience and technology, etc. All the data was collected from the online survey in 2019."
   ]
  },
  {
   "cell_type": "markdown",
   "id": "b716a7d4-e285-4997-8756-5e103982fe99",
   "metadata": {},
   "source": [
    "# Partition the data set into training and test sets\n",
    "Before proceeding further, we will split the data such that 80% of observations are in the training and 20% of observations are in the test set. Below we list the summary information of the training data set, there are 19475 observations and 85 features."
   ]
  },
  {
   "cell_type": "code",
   "execution_count": 3,
   "id": "5924429c-24f0-4332-b9ce-0ba35ae9a6a8",
   "metadata": {},
   "outputs": [],
   "source": [
    "train_df, test_df = train_test_split(survey_data, test_size=0.2, random_state=123)"
   ]
  },
  {
   "cell_type": "code",
   "execution_count": 4,
   "id": "478ee4bf-b92f-4d41-b8b0-136e6a50d92a",
   "metadata": {},
   "outputs": [
    {
     "name": "stdout",
     "output_type": "stream",
     "text": [
      "<class 'pandas.core.frame.DataFrame'>\n",
      "Int64Index: 19475 entries, 61585 to 72752\n",
      "Data columns (total 85 columns):\n",
      " #   Column                  Non-Null Count  Dtype  \n",
      "---  ------                  --------------  -----  \n",
      " 0   Respondent              19475 non-null  int64  \n",
      " 1   MainBranch              19405 non-null  object \n",
      " 2   Hobbyist                19475 non-null  object \n",
      " 3   OpenSourcer             19475 non-null  object \n",
      " 4   OpenSource              19102 non-null  object \n",
      " 5   Employment              19204 non-null  object \n",
      " 6   Country                 19475 non-null  object \n",
      " 7   Student                 19298 non-null  object \n",
      " 8   EdLevel                 19100 non-null  object \n",
      " 9   UndergradMajor          17377 non-null  object \n",
      " 10  EduOther                18979 non-null  object \n",
      " 11  OrgSize                 16294 non-null  object \n",
      " 12  DevType                 17999 non-null  object \n",
      " 13  YearsCode               19326 non-null  object \n",
      " 14  Age1stCode              19279 non-null  object \n",
      " 15  YearsCodePro            17005 non-null  object \n",
      " 16  CareerSat               16645 non-null  object \n",
      " 17  JobSat                  16262 non-null  object \n",
      " 18  MgrIdiot                14152 non-null  object \n",
      " 19  MgrMoney                14159 non-null  object \n",
      " 20  MgrWant                 14170 non-null  object \n",
      " 21  JobSeek                 17838 non-null  object \n",
      " 22  LastHireDate            17756 non-null  object \n",
      " 23  LastInt                 15562 non-null  object \n",
      " 24  FizzBuzz                16450 non-null  object \n",
      " 25  JobFactors              17686 non-null  object \n",
      " 26  ResumeUpdate            17499 non-null  object \n",
      " 27  CurrencySymbol          16312 non-null  object \n",
      " 28  CurrencyDesc            16312 non-null  object \n",
      " 29  CompTotal               13829 non-null  float64\n",
      " 30  CompFreq                14605 non-null  object \n",
      " 31  ConvertedComp           13803 non-null  float64\n",
      " 32  WorkWeekHrs             15164 non-null  float64\n",
      " 33  WorkPlan                15833 non-null  object \n",
      " 34  WorkChallenge           15693 non-null  object \n",
      " 35  WorkRemote              16195 non-null  object \n",
      " 36  WorkLoc                 16123 non-null  object \n",
      " 37  ImpSyn                  16524 non-null  object \n",
      " 38  CodeRev                 16194 non-null  object \n",
      " 39  CodeRevHrs              11878 non-null  float64\n",
      " 40  UnitTests               14916 non-null  object \n",
      " 41  PurchaseHow             14459 non-null  object \n",
      " 42  PurchaseWhat            14863 non-null  object \n",
      " 43  LanguageWorkedWith      19299 non-null  object \n",
      " 44  LanguageDesireNextYear  18392 non-null  object \n",
      " 45  DatabaseWorkedWith      16353 non-null  object \n",
      " 46  DatabaseDesireNextYear  14517 non-null  object \n",
      " 47  PlatformWorkedWith      17563 non-null  object \n",
      " 48  PlatformDesireNextYear  16724 non-null  object \n",
      " 49  WebFrameWorkedWith      14206 non-null  object \n",
      " 50  WebFrameDesireNextYear  13329 non-null  object \n",
      " 51  MiscTechWorkedWith      13720 non-null  object \n",
      " 52  MiscTechDesireNextYear  14134 non-null  object \n",
      " 53  DevEnviron              19184 non-null  object \n",
      " 54  OpSys                   19267 non-null  object \n",
      " 55  Containers              19006 non-null  object \n",
      " 56  BlockchainOrg           12227 non-null  object \n",
      " 57  BlockchainIs            14343 non-null  object \n",
      " 58  BetterLife              18942 non-null  object \n",
      " 59  ITperson                19108 non-null  object \n",
      " 60  OffOn                   19046 non-null  object \n",
      " 61  SocialMedia             18656 non-null  object \n",
      " 62  Extraversion            19237 non-null  object \n",
      " 63  ScreenName              18368 non-null  object \n",
      " 64  SOVisit1st              18599 non-null  object \n",
      " 65  SOVisitFreq             19410 non-null  object \n",
      " 66  SOVisitTo               19382 non-null  object \n",
      " 67  SOFindAnswer            19361 non-null  object \n",
      " 68  SOTimeSaved             19039 non-null  object \n",
      " 69  SOHowMuchTime           14629 non-null  object \n",
      " 70  SOAccount               19347 non-null  object \n",
      " 71  SOPartFreq              15741 non-null  object \n",
      " 72  SOJobs                  19374 non-null  object \n",
      " 73  EntTeams                19347 non-null  object \n",
      " 74  SOComm                  19396 non-null  object \n",
      " 75  WelcomeChange           19089 non-null  object \n",
      " 76  SONewContent            14165 non-null  object \n",
      " 77  Age                     17523 non-null  float64\n",
      " 78  Gender                  18743 non-null  object \n",
      " 79  Trans                   18568 non-null  object \n",
      " 80  Sexuality               17574 non-null  object \n",
      " 81  Ethnicity               17855 non-null  object \n",
      " 82  Dependents              18663 non-null  object \n",
      " 83  SurveyLength            19168 non-null  object \n",
      " 84  SurveyEase              19217 non-null  object \n",
      "dtypes: float64(5), int64(1), object(79)\n",
      "memory usage: 12.8+ MB\n"
     ]
    }
   ],
   "source": [
    "train_df.info()"
   ]
  },
  {
   "cell_type": "markdown",
   "id": "533b0ecc-fe3e-498a-8c4b-b4c24b0c579c",
   "metadata": {},
   "source": [
    "# Counts of observations for role, country and education level\n",
    "Since we only want to look into the top five significant features of salary prediction, it is good to know the counts distribution for each feature. The tables below show the counts of role, we can see the majority is working as a developer by profession."
   ]
  },
  {
   "cell_type": "code",
   "execution_count": 5,
   "id": "a31d916c-75de-437d-a976-dec2509e29c8",
   "metadata": {},
   "outputs": [
    {
     "data": {
      "text/html": [
       "<div>\n",
       "<style scoped>\n",
       "    .dataframe tbody tr th:only-of-type {\n",
       "        vertical-align: middle;\n",
       "    }\n",
       "\n",
       "    .dataframe tbody tr th {\n",
       "        vertical-align: top;\n",
       "    }\n",
       "\n",
       "    .dataframe thead th {\n",
       "        text-align: right;\n",
       "    }\n",
       "</style>\n",
       "<table border=\"1\" class=\"dataframe\">\n",
       "  <thead>\n",
       "    <tr style=\"text-align: right;\">\n",
       "      <th></th>\n",
       "      <th>counts</th>\n",
       "    </tr>\n",
       "  </thead>\n",
       "  <tbody>\n",
       "    <tr>\n",
       "      <th>I am a developer by profession</th>\n",
       "      <td>14928</td>\n",
       "    </tr>\n",
       "    <tr>\n",
       "      <th>I am not primarily a developer, but I write code sometimes as part of my work</th>\n",
       "      <td>1824</td>\n",
       "    </tr>\n",
       "    <tr>\n",
       "      <th>I am a student who is learning to code</th>\n",
       "      <td>1565</td>\n",
       "    </tr>\n",
       "    <tr>\n",
       "      <th>I code primarily as a hobby</th>\n",
       "      <td>726</td>\n",
       "    </tr>\n",
       "    <tr>\n",
       "      <th>I used to be a developer by profession, but no longer am</th>\n",
       "      <td>362</td>\n",
       "    </tr>\n",
       "  </tbody>\n",
       "</table>\n",
       "</div>"
      ],
      "text/plain": [
       "                                                    counts\n",
       "I am a developer by profession                       14928\n",
       "I am not primarily a developer, but I write cod...    1824\n",
       "I am a student who is learning to code                1565\n",
       "I code primarily as a hobby                            726\n",
       "I used to be a developer by profession, but no ...     362"
      ]
     },
     "execution_count": 5,
     "metadata": {},
     "output_type": "execute_result"
    }
   ],
   "source": [
    "role_counts = pd.DataFrame(train_df[\"MainBranch\"].value_counts()).rename(columns = {'MainBranch':'counts'})\n",
    "role_counts"
   ]
  },
  {
   "cell_type": "markdown",
   "id": "8c0cb71c-52ec-43af-8749-e6864290f4d0",
   "metadata": {},
   "source": [
    "There are 16738 observations from United States of America and 2737 observations from Canada which is very imbalanced here."
   ]
  },
  {
   "cell_type": "code",
   "execution_count": 6,
   "id": "622c7122-901d-473c-9ddc-b4657e251ca4",
   "metadata": {},
   "outputs": [
    {
     "data": {
      "text/html": [
       "<div>\n",
       "<style scoped>\n",
       "    .dataframe tbody tr th:only-of-type {\n",
       "        vertical-align: middle;\n",
       "    }\n",
       "\n",
       "    .dataframe tbody tr th {\n",
       "        vertical-align: top;\n",
       "    }\n",
       "\n",
       "    .dataframe thead th {\n",
       "        text-align: right;\n",
       "    }\n",
       "</style>\n",
       "<table border=\"1\" class=\"dataframe\">\n",
       "  <thead>\n",
       "    <tr style=\"text-align: right;\">\n",
       "      <th></th>\n",
       "      <th>counts</th>\n",
       "    </tr>\n",
       "  </thead>\n",
       "  <tbody>\n",
       "    <tr>\n",
       "      <th>United States</th>\n",
       "      <td>16738</td>\n",
       "    </tr>\n",
       "    <tr>\n",
       "      <th>Canada</th>\n",
       "      <td>2737</td>\n",
       "    </tr>\n",
       "  </tbody>\n",
       "</table>\n",
       "</div>"
      ],
      "text/plain": [
       "               counts\n",
       "United States   16738\n",
       "Canada           2737"
      ]
     },
     "execution_count": 6,
     "metadata": {},
     "output_type": "execute_result"
    }
   ],
   "source": [
    "country_counts = pd.DataFrame(train_df[\"Country\"].value_counts()).rename(columns = {'Country':'counts'})\n",
    "country_counts"
   ]
  },
  {
   "cell_type": "markdown",
   "id": "13c9e9d0-c429-4e68-8b5b-913f265bb005",
   "metadata": {},
   "source": [
    "In education level feature, we can see that most developers claim bachelor's degree as their education level."
   ]
  },
  {
   "cell_type": "code",
   "execution_count": 7,
   "id": "c62aaba5-fdfc-4a4e-9dd8-2e20a133b7d4",
   "metadata": {},
   "outputs": [
    {
     "data": {
      "text/html": [
       "<div>\n",
       "<style scoped>\n",
       "    .dataframe tbody tr th:only-of-type {\n",
       "        vertical-align: middle;\n",
       "    }\n",
       "\n",
       "    .dataframe tbody tr th {\n",
       "        vertical-align: top;\n",
       "    }\n",
       "\n",
       "    .dataframe thead th {\n",
       "        text-align: right;\n",
       "    }\n",
       "</style>\n",
       "<table border=\"1\" class=\"dataframe\">\n",
       "  <thead>\n",
       "    <tr style=\"text-align: right;\">\n",
       "      <th></th>\n",
       "      <th>counts</th>\n",
       "    </tr>\n",
       "  </thead>\n",
       "  <tbody>\n",
       "    <tr>\n",
       "      <th>Bachelor’s degree (BA, BS, B.Eng., etc.)</th>\n",
       "      <td>10011</td>\n",
       "    </tr>\n",
       "    <tr>\n",
       "      <th>Master’s degree (MA, MS, M.Eng., MBA, etc.)</th>\n",
       "      <td>3313</td>\n",
       "    </tr>\n",
       "    <tr>\n",
       "      <th>Some college/university study without earning a degree</th>\n",
       "      <td>2567</td>\n",
       "    </tr>\n",
       "    <tr>\n",
       "      <th>Secondary school (e.g. American high school, German Realschule or Gymnasium, etc.)</th>\n",
       "      <td>1101</td>\n",
       "    </tr>\n",
       "    <tr>\n",
       "      <th>Associate degree</th>\n",
       "      <td>1022</td>\n",
       "    </tr>\n",
       "    <tr>\n",
       "      <th>Other doctoral degree (Ph.D, Ed.D., etc.)</th>\n",
       "      <td>573</td>\n",
       "    </tr>\n",
       "    <tr>\n",
       "      <th>Primary/elementary school</th>\n",
       "      <td>305</td>\n",
       "    </tr>\n",
       "    <tr>\n",
       "      <th>Professional degree (JD, MD, etc.)</th>\n",
       "      <td>115</td>\n",
       "    </tr>\n",
       "    <tr>\n",
       "      <th>I never completed any formal education</th>\n",
       "      <td>93</td>\n",
       "    </tr>\n",
       "  </tbody>\n",
       "</table>\n",
       "</div>"
      ],
      "text/plain": [
       "                                                    counts\n",
       "Bachelor’s degree (BA, BS, B.Eng., etc.)             10011\n",
       "Master’s degree (MA, MS, M.Eng., MBA, etc.)           3313\n",
       "Some college/university study without earning a...    2567\n",
       "Secondary school (e.g. American high school, Ge...    1101\n",
       "Associate degree                                      1022\n",
       "Other doctoral degree (Ph.D, Ed.D., etc.)              573\n",
       "Primary/elementary school                              305\n",
       "Professional degree (JD, MD, etc.)                     115\n",
       "I never completed any formal education                  93"
      ]
     },
     "execution_count": 7,
     "metadata": {},
     "output_type": "execute_result"
    }
   ],
   "source": [
    "edlevel_counts = pd.DataFrame(train_df[\"EdLevel\"].value_counts()).rename(columns = {'EdLevel':'counts'})\n",
    "edlevel_counts"
   ]
  },
  {
   "cell_type": "markdown",
   "id": "672b87f7-2578-4467-8ff2-cf58c6067f7e",
   "metadata": {},
   "source": [
    "# Further exploratory analysis on the training data set"
   ]
  },
  {
   "cell_type": "code",
   "execution_count": 8,
   "id": "fa62fdff-c910-4657-94c8-ee4bb4a830e4",
   "metadata": {},
   "outputs": [
    {
     "data": {
      "application/vnd.vegalite.v4+json": {
       "$schema": "https://vega.github.io/schema/vega-lite/v4.8.1.json",
       "config": {
        "view": {
         "continuousHeight": 300,
         "continuousWidth": 400
        }
       },
       "data": {
        "url": "http://localhost:17271/65d099a245620e27fa2f77cf6cbf7f59.json"
       },
       "vconcat": [
        {
         "encoding": {
          "color": {
           "field": "Country",
           "type": "nominal"
          },
          "x": {
           "aggregate": "count",
           "title": "Count of people",
           "type": "quantitative"
          },
          "y": {
           "field": "Country",
           "title": "Country",
           "type": "nominal"
          }
         },
         "mark": "bar"
        },
        {
         "encoding": {
          "color": {
           "field": "Country",
           "type": "nominal"
          },
          "x": {
           "field": "ConvertedComp",
           "title": "Annual Compensation",
           "type": "quantitative"
          },
          "y": {
           "field": "Country",
           "title": "Country",
           "type": "nominal"
          }
         },
         "mark": "point"
        }
       ]
      },
      "image/png": "[encoded data removed]",
      "text/plain": [
       "<VegaLite 4 object>\n",
       "\n",
       "If you see this message, it means the renderer has not been properly enabled\n",
       "for the frontend that you are using. For more information, see\n",
       "https://altair-viz.github.io/user_guide/troubleshooting.html\n"
      ]
     },
     "execution_count": 8,
     "metadata": {},
     "output_type": "execute_result"
    }
   ],
   "source": [
    "chart_1 = alt.Chart(train_df).mark_point(\n",
    ").encode(alt.Y('Country', title='Country'), \n",
    "         alt.X('ConvertedComp', title='Annual Compensation'), \n",
    "         color='Country'\n",
    ")\n",
    "\n",
    "chart_2 = alt.Chart(train_df).mark_bar(\n",
    ").encode(alt.Y('Country', title='Country'), \n",
    "         alt.X('count()', title='Count of people'), \n",
    "         color='Country'\n",
    ")\n",
    "\n",
    "chart_2 & chart_1"
   ]
  },
  {
   "cell_type": "markdown",
   "id": "9aac918d-34d3-4bd3-ac58-c8112f0f823b",
   "metadata": {},
   "source": [
    "From the above Chart, we can see that across professions, the employees in USA earn more than employees in Canada."
   ]
  },
  {
   "cell_type": "code",
   "execution_count": 9,
   "id": "2697c017-5549-4514-884e-1f81c21e8ab4",
   "metadata": {},
   "outputs": [],
   "source": [
    "code_years = ['10', '5', '6', '8', '4']\n",
    "code_years_split = train_df.query('YearsCode == @code_years')"
   ]
  },
  {
   "cell_type": "code",
   "execution_count": 10,
   "id": "b94ac714-45af-4eed-93d3-6ce2e161e822",
   "metadata": {},
   "outputs": [
    {
     "data": {
      "application/vnd.vegalite.v4+json": {
       "$schema": "https://vega.github.io/schema/vega-lite/v4.8.1.json",
       "config": {
        "view": {
         "continuousHeight": 300,
         "continuousWidth": 400
        }
       },
       "data": {
        "url": "http://localhost:17271/f180182b9a80fde969159cc5befe1a4c.json"
       },
       "vconcat": [
        {
         "encoding": {
          "color": {
           "field": "YearsCode",
           "type": "nominal"
          },
          "x": {
           "aggregate": "count",
           "title": "Count of people",
           "type": "quantitative"
          },
          "y": {
           "field": "YearsCode",
           "sort": "x",
           "title": "Number of coding years",
           "type": "nominal"
          }
         },
         "mark": "bar"
        },
        {
         "encoding": {
          "color": {
           "field": "YearsCode",
           "type": "nominal"
          },
          "x": {
           "field": "ConvertedComp",
           "title": "Annual Compensation",
           "type": "quantitative"
          },
          "y": {
           "field": "YearsCode",
           "sort": "x",
           "title": "Number of coding years",
           "type": "nominal"
          }
         },
         "mark": "point"
        }
       ]
      },
      "image/png": "[encoded data removed]",
      "text/plain": [
       "<VegaLite 4 object>\n",
       "\n",
       "If you see this message, it means the renderer has not been properly enabled\n",
       "for the frontend that you are using. For more information, see\n",
       "https://altair-viz.github.io/user_guide/troubleshooting.html\n"
      ]
     },
     "execution_count": 10,
     "metadata": {},
     "output_type": "execute_result"
    }
   ],
   "source": [
    "chart_3 = alt.Chart(code_years_split).mark_point(\n",
    ").encode(alt.Y('YearsCode',sort= 'x', title='Number of coding years'), \n",
    "         alt.X('ConvertedComp', title='Annual Compensation'), \n",
    "         color='YearsCode'\n",
    ")\n",
    "\n",
    "chart_4 = alt.Chart(code_years_split).mark_bar(\n",
    ").encode(alt.Y('YearsCode',sort= 'x', title='Number of coding years'), \n",
    "         alt.X('count()', title='Count of people'), \n",
    "         color='YearsCode'\n",
    ")\n",
    "\n",
    "chart_4 & chart_3"
   ]
  },
  {
   "cell_type": "markdown",
   "id": "5b739a9a-cd80-4f09-9ac5-6cdebed56243",
   "metadata": {},
   "source": [
    "Majority of the people have been coding for the past 10 years. But the salaries are pretty evenly distributed for the 5 groups."
   ]
  },
  {
   "cell_type": "code",
   "execution_count": 11,
   "id": "eec23f23-806c-452f-b807-25bdce3d13e4",
   "metadata": {},
   "outputs": [],
   "source": [
    "tech = ['JavaScript', 'HTML/CSS', 'SQL', 'Python', 'Bash/Shell']\n",
    "tech_split = train_df.query('LanguageWorkedWith == @tech')"
   ]
  },
  {
   "cell_type": "code",
   "execution_count": 12,
   "id": "a3284e94-e67c-4825-8f9b-7e90872cba81",
   "metadata": {},
   "outputs": [
    {
     "data": {
      "application/vnd.vegalite.v4+json": {
       "$schema": "https://vega.github.io/schema/vega-lite/v4.8.1.json",
       "config": {
        "view": {
         "continuousHeight": 300,
         "continuousWidth": 400
        }
       },
       "data": {
        "url": "http://localhost:17271/e57901293f030c35d242cc8e02422d27.json"
       },
       "vconcat": [
        {
         "encoding": {
          "color": {
           "field": "LanguageWorkedWith",
           "type": "nominal"
          },
          "x": {
           "aggregate": "count",
           "title": "Count of people",
           "type": "quantitative"
          },
          "y": {
           "field": "LanguageWorkedWith",
           "sort": "x",
           "title": "Language worked with",
           "type": "nominal"
          }
         },
         "mark": "bar"
        },
        {
         "encoding": {
          "color": {
           "field": "LanguageWorkedWith",
           "type": "nominal"
          },
          "x": {
           "field": "ConvertedComp",
           "title": "Annual Compensation",
           "type": "quantitative"
          },
          "y": {
           "field": "LanguageWorkedWith",
           "sort": "x",
           "title": "Language worked with",
           "type": "nominal"
          }
         },
         "mark": "point"
        }
       ]
      },
      "image/png": "[encoded data removed]",
      "text/plain": [
       "<VegaLite 4 object>\n",
       "\n",
       "If you see this message, it means the renderer has not been properly enabled\n",
       "for the frontend that you are using. For more information, see\n",
       "https://altair-viz.github.io/user_guide/troubleshooting.html\n"
      ]
     },
     "execution_count": 12,
     "metadata": {},
     "output_type": "execute_result"
    }
   ],
   "source": [
    "chart_5 = alt.Chart(tech_split).mark_point(\n",
    ").encode(alt.Y('LanguageWorkedWith', sort= 'x',title='Language worked with'), \n",
    "         alt.X('ConvertedComp', title='Annual Compensation'), \n",
    "         color='LanguageWorkedWith'\n",
    ")\n",
    "\n",
    "chart_6 = alt.Chart(tech_split).mark_bar(\n",
    ").encode(alt.Y('LanguageWorkedWith',sort= 'x', title='Language worked with'), \n",
    "         alt.X('count()', title='Count of people'), \n",
    "         color='LanguageWorkedWith'\n",
    ")\n",
    "\n",
    "chart_6 & chart_5"
   ]
  },
  {
   "cell_type": "markdown",
   "id": "6193ec47-24b5-4a72-975e-b8f549389c8a",
   "metadata": {},
   "source": [
    "From the above graph we see that Python is the most used language and the people who use it have higher salaries."
   ]
  }
 ],
 "metadata": {
  "kernelspec": {
   "display_name": "Python 3 (ipykernel)",
   "language": "python",
   "name": "python3"
  },
  "language_info": {
   "codemirror_mode": {
    "name": "ipython",
    "version": 3
   },
   "file_extension": ".py",
   "mimetype": "text/x-python",
   "name": "python",
   "nbconvert_exporter": "python",
   "pygments_lexer": "ipython3",
   "version": "3.9.5"
  }
 },
 "nbformat": 4,
 "nbformat_minor": 5
}
